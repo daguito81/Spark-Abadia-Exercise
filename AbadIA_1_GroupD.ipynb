{
 "cells": [
  {
   "cell_type": "markdown",
   "metadata": {
    "colab_type": "text",
    "id": "3T3_FYC4ZBBE"
   },
   "source": [
    "# MBD-O2 Spark Final Assignment\n"
   ]
  },
  {
   "cell_type": "markdown",
   "metadata": {},
   "source": [
    "# Group - D"
   ]
  },
  {
   "cell_type": "markdown",
   "metadata": {},
   "source": [
    "# Machine Learning with Spark and AbadIA"
   ]
  },
  {
   "cell_type": "markdown",
   "metadata": {
    "cell_style": "center"
   },
   "source": [
    "![cover](images/cover.png)"
   ]
  },
  {
   "cell_type": "markdown",
   "metadata": {},
   "source": [
    "\n"
   ]
  },
  {
   "cell_type": "markdown",
   "metadata": {},
   "source": [
    "Created in Spain and based in the movie:"
   ]
  },
  {
   "cell_type": "markdown",
   "metadata": {
    "cell_style": "center"
   },
   "source": [
    "![rose](images/rose.png)"
   ]
  },
  {
   "cell_type": "markdown",
   "metadata": {},
   "source": [
    "## Load Libraries"
   ]
  },
  {
   "cell_type": "code",
   "execution_count": 1,
   "metadata": {
    "ExecuteTime": {
     "end_time": "2019-03-13T20:35:54.401002Z",
     "start_time": "2019-03-13T20:35:41.445721Z"
    }
   },
   "outputs": [],
   "source": [
    "import numpy as np\n",
    "import pandas as pd\n",
    "import matplotlib.pyplot as plt\n",
    "import seaborn as sns\n",
    "%matplotlib inline\n",
    "\n",
    "import pyspark.sql.functions as F\n",
    "from pyspark.sql.types import FloatType\n",
    "from scipy.spatial import distance"
   ]
  },
  {
   "cell_type": "code",
   "execution_count": 147,
   "metadata": {},
   "outputs": [],
   "source": [
    "from IPython.display import Image\n",
    "from IPython.core.display import HTML \n"
   ]
  },
  {
   "cell_type": "code",
   "execution_count": 2,
   "metadata": {
    "ExecuteTime": {
     "end_time": "2019-03-13T20:35:57.502399Z",
     "start_time": "2019-03-13T20:35:54.417911Z"
    },
    "colab": {},
    "colab_type": "code",
    "id": "zgReRGl0y23D"
   },
   "outputs": [],
   "source": [
    "from pyspark.sql import SparkSession\n",
    "\n",
    "spark = SparkSession.builder.master(\"local[*]\").getOrCreate()\n",
    "sc = spark.sparkContext\n",
    "\n"
   ]
  },
  {
   "cell_type": "markdown",
   "metadata": {},
   "source": [
    "We read the json files from the github repo. "
   ]
  },
  {
   "cell_type": "markdown",
   "metadata": {},
   "source": [
    "**PySpark**"
   ]
  },
  {
   "cell_type": "code",
   "execution_count": 3,
   "metadata": {
    "ExecuteTime": {
     "end_time": "2019-03-13T21:02:35.964714Z",
     "start_time": "2019-03-13T21:02:31.507686Z"
    },
    "colab": {},
    "colab_type": "code",
    "id": "0Luher6iBmkw"
   },
   "outputs": [],
   "source": [
    "df = spark.read.json('./SparkCourse2019/datasets/AbadIA2/actions/*.json')"
   ]
  },
  {
   "cell_type": "markdown",
   "metadata": {},
   "source": [
    "We then count the number of rows we have"
   ]
  },
  {
   "cell_type": "code",
   "execution_count": 5,
   "metadata": {
    "ExecuteTime": {
     "end_time": "2019-03-13T21:02:38.973218Z",
     "start_time": "2019-03-13T21:02:37.985534Z"
    }
   },
   "outputs": [
    {
     "data": {
      "text/plain": [
       "88565"
      ]
     },
     "execution_count": 5,
     "metadata": {},
     "output_type": "execute_result"
    }
   ],
   "source": [
    "df.count()"
   ]
  },
  {
   "cell_type": "markdown",
   "metadata": {},
   "source": [
    "We know it's a JSON file so there will be a structure in it. We print the Schema to see it and be able to pull information out "
   ]
  },
  {
   "cell_type": "code",
   "execution_count": 6,
   "metadata": {
    "ExecuteTime": {
     "end_time": "2019-03-13T21:02:39.789727Z",
     "start_time": "2019-03-13T21:02:39.785729Z"
    },
    "colab": {},
    "colab_type": "code",
    "id": "ZvEWLppUC4KR"
   },
   "outputs": [
    {
     "name": "stdout",
     "output_type": "stream",
     "text": [
      "root\n",
      " |-- action: struct (nullable = true)\n",
      " |    |-- action: long (nullable = true)\n",
      " |    |-- nextstate: struct (nullable = true)\n",
      " |    |    |-- Objetos: array (nullable = true)\n",
      " |    |    |    |-- element: string (containsNull = true)\n",
      " |    |    |-- Personajes: array (nullable = true)\n",
      " |    |    |    |-- element: struct (containsNull = true)\n",
      " |    |    |    |    |-- altura: long (nullable = true)\n",
      " |    |    |    |    |-- id: long (nullable = true)\n",
      " |    |    |    |    |-- nombre: string (nullable = true)\n",
      " |    |    |    |    |-- objetos: long (nullable = true)\n",
      " |    |    |    |    |-- orientacion: long (nullable = true)\n",
      " |    |    |    |    |-- posX: long (nullable = true)\n",
      " |    |    |    |    |-- posY: long (nullable = true)\n",
      " |    |    |-- Rejilla: array (nullable = true)\n",
      " |    |    |    |-- element: array (containsNull = true)\n",
      " |    |    |    |    |-- element: long (containsNull = true)\n",
      " |    |    |-- bonus: long (nullable = true)\n",
      " |    |    |-- dia: long (nullable = true)\n",
      " |    |    |-- frases: array (nullable = true)\n",
      " |    |    |    |-- element: long (containsNull = true)\n",
      " |    |    |-- gameId: string (nullable = true)\n",
      " |    |    |-- haFracasado: boolean (nullable = true)\n",
      " |    |    |-- investigacionCompleta: boolean (nullable = true)\n",
      " |    |    |-- jugada: long (nullable = true)\n",
      " |    |    |-- momentoDia: long (nullable = true)\n",
      " |    |    |-- numPantalla: long (nullable = true)\n",
      " |    |    |-- numeroRomano: long (nullable = true)\n",
      " |    |    |-- obsequium: long (nullable = true)\n",
      " |    |    |-- planta: long (nullable = true)\n",
      " |    |    |-- porcentaje: long (nullable = true)\n",
      " |    |    |-- reward: double (nullable = true)\n",
      " |    |    |-- sonidos: array (nullable = true)\n",
      " |    |    |    |-- element: long (containsNull = true)\n",
      " |    |    |-- totalReward: double (nullable = true)\n",
      " |    |-- reward: double (nullable = true)\n",
      " |    |-- state: struct (nullable = true)\n",
      " |    |    |-- Objetos: array (nullable = true)\n",
      " |    |    |    |-- element: string (containsNull = true)\n",
      " |    |    |-- Personajes: array (nullable = true)\n",
      " |    |    |    |-- element: struct (containsNull = true)\n",
      " |    |    |    |    |-- altura: long (nullable = true)\n",
      " |    |    |    |    |-- id: long (nullable = true)\n",
      " |    |    |    |    |-- nombre: string (nullable = true)\n",
      " |    |    |    |    |-- objetos: long (nullable = true)\n",
      " |    |    |    |    |-- orientacion: long (nullable = true)\n",
      " |    |    |    |    |-- posX: long (nullable = true)\n",
      " |    |    |    |    |-- posY: long (nullable = true)\n",
      " |    |    |-- Rejilla: array (nullable = true)\n",
      " |    |    |    |-- element: array (containsNull = true)\n",
      " |    |    |    |    |-- element: long (containsNull = true)\n",
      " |    |    |-- bonus: long (nullable = true)\n",
      " |    |    |-- dia: long (nullable = true)\n",
      " |    |    |-- frases: array (nullable = true)\n",
      " |    |    |    |-- element: long (containsNull = true)\n",
      " |    |    |-- gameId: string (nullable = true)\n",
      " |    |    |-- haFracasado: boolean (nullable = true)\n",
      " |    |    |-- investigacionCompleta: boolean (nullable = true)\n",
      " |    |    |-- jugada: long (nullable = true)\n",
      " |    |    |-- momentoDia: long (nullable = true)\n",
      " |    |    |-- numPantalla: long (nullable = true)\n",
      " |    |    |-- numeroRomano: long (nullable = true)\n",
      " |    |    |-- obsequium: long (nullable = true)\n",
      " |    |    |-- planta: long (nullable = true)\n",
      " |    |    |-- porcentaje: long (nullable = true)\n",
      " |    |    |-- reward: double (nullable = true)\n",
      " |    |    |-- sonidos: array (nullable = true)\n",
      " |    |    |    |-- element: long (containsNull = true)\n",
      " |    |    |-- totalReward: double (nullable = true)\n",
      "\n"
     ]
    }
   ],
   "source": [
    "df.printSchema()"
   ]
  },
  {
   "cell_type": "markdown",
   "metadata": {},
   "source": [
    "![gameplay](images/game.png)"
   ]
  },
  {
   "cell_type": "markdown",
   "metadata": {},
   "source": [
    "We then decide which attributes we want to pull from this structure."
   ]
  },
  {
   "cell_type": "markdown",
   "metadata": {},
   "source": [
    "For the Map Data, we have an element - element  in the JSON document. That normally means a 2D array hidden as an array inside an array.  \n",
    "We can use this Rejilla's made as an array to plot the map of the rooms in matplotlib "
   ]
  },
  {
   "cell_type": "code",
   "execution_count": 7,
   "metadata": {
    "ExecuteTime": {
     "end_time": "2019-03-13T20:36:49.323829Z",
     "start_time": "2019-03-13T20:36:49.273845Z"
    },
    "colab": {},
    "colab_type": "code",
    "id": "D-IUL5tK5uLJ"
   },
   "outputs": [],
   "source": [
    "data=df.select(\"action.nextstate.Personajes.nombre\",\n",
    "               \"action.nextstate.Personajes.posX\",\n",
    "               \"action.nextstate.Personajes.posY\",\n",
    "               \"action.nextstate.dia\",\n",
    "               \"action.nextstate.momentoDia\",\n",
    "               \"action.nextstate.reward\",\n",
    "               \"action.nextstate.Personajes.altura\",\n",
    "               \"action.nextstate.Personajes.orientacion\",\n",
    "               \"action.nextstate.numPantalla\",\n",
    "               \"action.nextstate.obsequium\",\n",
    "              )"
   ]
  },
  {
   "cell_type": "markdown",
   "metadata": {},
   "source": [
    "We get that into a Pandas DataFrame so we can plot and see it "
   ]
  },
  {
   "cell_type": "markdown",
   "metadata": {},
   "source": [
    "![map](images/map.png)"
   ]
  },
  {
   "cell_type": "markdown",
   "metadata": {},
   "source": [
    "**Python**"
   ]
  },
  {
   "cell_type": "markdown",
   "metadata": {},
   "source": [
    "We use python to plot and see the different rooms"
   ]
  },
  {
   "cell_type": "code",
   "execution_count": 8,
   "metadata": {
    "ExecuteTime": {
     "end_time": "2019-03-13T20:36:59.632389Z",
     "start_time": "2019-03-13T20:36:51.102602Z"
    }
   },
   "outputs": [],
   "source": [
    "map_data = df.select([\"action.nextstate.Rejilla\", \"action.nextstate.numPantalla\"]).toPandas()"
   ]
  },
  {
   "cell_type": "code",
   "execution_count": 9,
   "metadata": {
    "ExecuteTime": {
     "end_time": "2019-03-13T20:37:45.213624Z",
     "start_time": "2019-03-13T20:37:43.103510Z"
    },
    "scrolled": false
   },
   "outputs": [
    {
     "data": {
      "image/png": "[encoded data removed]",
      "text/plain": [
       "<Figure size 1080x2160 with 11 Axes>"
      ]
     },
     "metadata": {},
     "output_type": "display_data"
    }
   ],
   "source": [
    "plt.subplots(figsize=(15,30))\n",
    "rooms = map_data['numPantalla'].unique()\n",
    "\n",
    "for i, room in enumerate(rooms):\n",
    "    plt.subplot(6,2,i+1)\n",
    "    plt.imshow(np.array(map_data.loc[map_data['numPantalla'] == room, 'Rejilla'].sample(1).values[0]),\n",
    "               cmap='plasma')\n",
    "    plt.title(\"Room: \" + str(room))\n",
    "plt.tight_layout()"
   ]
  },
  {
   "cell_type": "markdown",
   "metadata": {},
   "source": [
    "![map](images/section.png)"
   ]
  },
  {
   "cell_type": "markdown",
   "metadata": {},
   "source": [
    "**PySpark**"
   ]
  },
  {
   "cell_type": "code",
   "execution_count": 10,
   "metadata": {
    "ExecuteTime": {
     "end_time": "2019-03-13T20:38:00.478544Z",
     "start_time": "2019-03-13T20:37:57.326586Z"
    },
    "colab": {},
    "colab_type": "code",
    "id": "NH4IohmmsPnc"
   },
   "outputs": [
    {
     "name": "stdout",
     "output_type": "stream",
     "text": [
      "+-------+-----+----------+--------------------+------------------+------------------+\n",
      "|summary|  dia|momentoDia|              reward|       numPantalla|         obsequium|\n",
      "+-------+-----+----------+--------------------+------------------+------------------+\n",
      "|  count|88565|     88565|               88565|             88565|             88565|\n",
      "|   mean|  1.0|       4.0|-0.00561747981708...|  21.8543329757805|15.762603737368035|\n",
      "| stddev|  0.0|       0.0| 0.07265083664791303|1.3708485527179033|10.150507846117947|\n",
      "|    min|    1|         4|                -1.0|                18|                 0|\n",
      "|    max|    1|         4|               0.005|                33|                31|\n",
      "+-------+-----+----------+--------------------+------------------+------------------+\n",
      "\n"
     ]
    }
   ],
   "source": [
    "data.describe().show()"
   ]
  },
  {
   "cell_type": "markdown",
   "metadata": {
    "colab_type": "text",
    "id": "BzN7pmEg0ubV"
   },
   "source": [
    "We can see that dia and momentoDia are constant. So we can take those off"
   ]
  },
  {
   "cell_type": "markdown",
   "metadata": {},
   "source": [
    "We also check the names as those are the players present in a room in each state"
   ]
  },
  {
   "cell_type": "code",
   "execution_count": 13,
   "metadata": {
    "ExecuteTime": {
     "end_time": "2019-03-13T20:38:07.057936Z",
     "start_time": "2019-03-13T20:38:03.329128Z"
    },
    "colab": {},
    "colab_type": "code",
    "id": "trAUnz2BuDVt"
   },
   "outputs": [
    {
     "name": "stdout",
     "output_type": "stream",
     "text": [
      "+---------------------------------+-----+\n",
      "|nombre                           |count|\n",
      "+---------------------------------+-----+\n",
      "|[Guillermo, Adso]                |12609|\n",
      "|[Guillermo, Adso, Abad]          |67071|\n",
      "|[Guillermo, Adso, Severino]      |52   |\n",
      "|[Guillermo, Adso, Abad, Severino]|8830 |\n",
      "+---------------------------------+-----+\n",
      "only showing top 4 rows\n",
      "\n"
     ]
    }
   ],
   "source": [
    "data.groupBy('nombre').count().show(4, False)"
   ]
  },
  {
   "cell_type": "markdown",
   "metadata": {
    "colab": {},
    "colab_type": "code",
    "id": "HcqJ1M0xsNgk"
   },
   "source": [
    "This tells us that Guillermo and Adso are both present in every frame in the game. The other 2 players appear only sometimes. We can then calculate the distance between these 2 players and see if there is a correlation with the rewards"
   ]
  },
  {
   "cell_type": "markdown",
   "metadata": {},
   "source": [
    "We could also try to create a flag if Abad is present , but this complicates the scope fo this notebook and we prefer to keep things simple"
   ]
  },
  {
   "cell_type": "code",
   "execution_count": 28,
   "metadata": {
    "ExecuteTime": {
     "end_time": "2019-03-13T20:38:09.393898Z",
     "start_time": "2019-03-13T20:38:09.205971Z"
    }
   },
   "outputs": [],
   "source": [
    "data=df.selectExpr(\"action.nextstate.reward\",\n",
    "                   \"action.nextstate.numPantalla\",\n",
    "                   \"action.nextstate.Personajes.altura[0] as altura_G\",\n",
    "                   \"action.nextstate.Personajes.altura[2] as altura_A\",\n",
    "                   \"action.nextstate.Personajes.orientacion\",\n",
    "                   \"action.nextstate.obsequium\",\n",
    "                   \"action.nextstate.Personajes.posX[0] as posx_G\",\n",
    "                   \"action.nextstate.Personajes.posY[0] as posy_G\",\n",
    "                   \"action.nextstate.Personajes.posX[1] as posx_A\",\n",
    "                   \"action.nextstate.Personajes.posY[1] as posy_A\",\n",
    "                   \"action.action\",\n",
    "                   \"action.nextstate.Personajes.nombre\"\n",
    "                  )"
   ]
  },
  {
   "cell_type": "markdown",
   "metadata": {},
   "source": [
    "We calculate the Euclidean Distance between Guillermo and Adso in every frame to see if that has a correlation with reward"
   ]
  },
  {
   "cell_type": "code",
   "execution_count": 29,
   "metadata": {
    "ExecuteTime": {
     "end_time": "2019-03-13T20:38:51.495702Z",
     "start_time": "2019-03-13T20:38:51.396733Z"
    }
   },
   "outputs": [],
   "source": [
    "data = data.withColumn(\n",
    "    'dist',\n",
    "    F.sqrt((F.col('posy_G') - F.col('posy_A'))**2 \\\n",
    "           + (F.col('posx_G') - F.col('posx_A'))**2))"
   ]
  },
  {
   "cell_type": "markdown",
   "metadata": {},
   "source": [
    "We got the 2D euclidean distance between Guillermo and Abad using their X, Y. \n",
    "We also found out that orientacion is not really relevant without some very complicated context, the name array we don't need anymore either so we drop them. We also won't use Adso's position as it complicates matters and we already have the distance as a feature. So we drop it as well. Same with the altura for both characters"
   ]
  },
  {
   "cell_type": "code",
   "execution_count": 30,
   "metadata": {
    "ExecuteTime": {
     "end_time": "2019-03-13T20:38:54.460909Z",
     "start_time": "2019-03-13T20:38:54.452912Z"
    }
   },
   "outputs": [],
   "source": [
    "data = data.drop('orientacion', 'posx_A', 'posy_A', 'nombre', 'altura_G', 'altura_A')"
   ]
  },
  {
   "cell_type": "code",
   "execution_count": 31,
   "metadata": {
    "ExecuteTime": {
     "end_time": "2019-03-13T20:38:55.328916Z",
     "start_time": "2019-03-13T20:38:55.325917Z"
    }
   },
   "outputs": [
    {
     "name": "stdout",
     "output_type": "stream",
     "text": [
      "root\n",
      " |-- reward: double (nullable = true)\n",
      " |-- numPantalla: long (nullable = true)\n",
      " |-- obsequium: long (nullable = true)\n",
      " |-- posx_G: long (nullable = true)\n",
      " |-- posy_G: long (nullable = true)\n",
      " |-- action: long (nullable = true)\n",
      " |-- dist: double (nullable = true)\n",
      "\n"
     ]
    }
   ],
   "source": [
    "data.printSchema()"
   ]
  },
  {
   "cell_type": "markdown",
   "metadata": {},
   "source": [
    "Checking that there are no null values "
   ]
  },
  {
   "cell_type": "code",
   "execution_count": 32,
   "metadata": {
    "ExecuteTime": {
     "end_time": "2019-03-13T20:39:11.519843Z",
     "start_time": "2019-03-13T20:39:08.889684Z"
    },
    "colab": {},
    "colab_type": "code",
    "id": "9pmCNJiQ7N2_"
   },
   "outputs": [
    {
     "name": "stdout",
     "output_type": "stream",
     "text": [
      "+------+-----------+---------+------+------+------+----+\n",
      "|reward|numPantalla|obsequium|posx_G|posy_G|action|dist|\n",
      "+------+-----------+---------+------+------+------+----+\n",
      "|     0|          0|        0|     0|     0|     0|   0|\n",
      "+------+-----------+---------+------+------+------+----+\n",
      "\n"
     ]
    }
   ],
   "source": [
    "data.select([F.count(F.when(F.isnan(c), c)).alias(c) for c in data.columns]).show()"
   ]
  },
  {
   "cell_type": "code",
   "execution_count": 33,
   "metadata": {
    "ExecuteTime": {
     "end_time": "2019-03-13T21:01:47.620394Z",
     "start_time": "2019-03-13T21:01:45.244140Z"
    }
   },
   "outputs": [
    {
     "name": "stdout",
     "output_type": "stream",
     "text": [
      "+------+-----------+---------+------+------+------+----+\n",
      "|reward|numPantalla|obsequium|posx_G|posy_G|action|dist|\n",
      "+------+-----------+---------+------+------+------+----+\n",
      "|     0|          0|        0|     0|     0|     0|   0|\n",
      "+------+-----------+---------+------+------+------+----+\n",
      "\n"
     ]
    }
   ],
   "source": [
    "data.select([F.count(F.when(F.isnull(c), c)).alias(c) for c in data.columns]).show()"
   ]
  },
  {
   "cell_type": "markdown",
   "metadata": {},
   "source": [
    "So we have no null values and we can start Visualizing different parameters"
   ]
  },
  {
   "cell_type": "markdown",
   "metadata": {},
   "source": [
    "## EDA"
   ]
  },
  {
   "cell_type": "code",
   "execution_count": 34,
   "metadata": {
    "ExecuteTime": {
     "end_time": "2019-03-13T20:39:15.922544Z",
     "start_time": "2019-03-13T20:39:15.919545Z"
    }
   },
   "outputs": [
    {
     "name": "stdout",
     "output_type": "stream",
     "text": [
      "root\n",
      " |-- reward: double (nullable = true)\n",
      " |-- numPantalla: long (nullable = true)\n",
      " |-- obsequium: long (nullable = true)\n",
      " |-- posx_G: long (nullable = true)\n",
      " |-- posy_G: long (nullable = true)\n",
      " |-- action: long (nullable = true)\n",
      " |-- dist: double (nullable = true)\n",
      "\n"
     ]
    }
   ],
   "source": [
    "data.printSchema()"
   ]
  },
  {
   "cell_type": "markdown",
   "metadata": {},
   "source": [
    "We can plot the average reward and obsequium on all positions so we can see how the areas compare to each other.  \n",
    "For this we will use matplotlib and as we're dealing with 88k rows and 7 features. We can easily convert it back to python for this"
   ]
  },
  {
   "cell_type": "markdown",
   "metadata": {},
   "source": [
    "**Python**"
   ]
  },
  {
   "cell_type": "code",
   "execution_count": 35,
   "metadata": {
    "ExecuteTime": {
     "end_time": "2019-03-13T20:43:19.736171Z",
     "start_time": "2019-03-13T20:43:16.927070Z"
    }
   },
   "outputs": [],
   "source": [
    "df = data.toPandas()"
   ]
  },
  {
   "cell_type": "code",
   "execution_count": 36,
   "metadata": {
    "ExecuteTime": {
     "end_time": "2019-03-13T20:43:24.020808Z",
     "start_time": "2019-03-13T20:43:23.743897Z"
    }
   },
   "outputs": [
    {
     "data": {
      "text/html": [
       "<div>\n",
       "<style scoped>\n",
       "    .dataframe tbody tr th:only-of-type {\n",
       "        vertical-align: middle;\n",
       "    }\n",
       "\n",
       "    .dataframe tbody tr th {\n",
       "        vertical-align: top;\n",
       "    }\n",
       "\n",
       "    .dataframe thead th {\n",
       "        text-align: right;\n",
       "    }\n",
       "</style>\n",
       "<table border=\"1\" class=\"dataframe\">\n",
       "  <thead>\n",
       "    <tr style=\"text-align: right;\">\n",
       "      <th></th>\n",
       "      <th>reward</th>\n",
       "      <th>numPantalla</th>\n",
       "      <th>obsequium</th>\n",
       "      <th>posx_G</th>\n",
       "      <th>posy_G</th>\n",
       "      <th>action</th>\n",
       "      <th>dist</th>\n",
       "    </tr>\n",
       "  </thead>\n",
       "  <tbody>\n",
       "    <tr>\n",
       "      <th>0</th>\n",
       "      <td>-0.0001</td>\n",
       "      <td>21</td>\n",
       "      <td>31</td>\n",
       "      <td>137</td>\n",
       "      <td>143</td>\n",
       "      <td>1</td>\n",
       "      <td>2.000000</td>\n",
       "    </tr>\n",
       "    <tr>\n",
       "      <th>1</th>\n",
       "      <td>-0.0001</td>\n",
       "      <td>21</td>\n",
       "      <td>31</td>\n",
       "      <td>136</td>\n",
       "      <td>143</td>\n",
       "      <td>6</td>\n",
       "      <td>3.000000</td>\n",
       "    </tr>\n",
       "    <tr>\n",
       "      <th>2</th>\n",
       "      <td>-0.0060</td>\n",
       "      <td>21</td>\n",
       "      <td>29</td>\n",
       "      <td>137</td>\n",
       "      <td>142</td>\n",
       "      <td>1</td>\n",
       "      <td>2.000000</td>\n",
       "    </tr>\n",
       "    <tr>\n",
       "      <th>3</th>\n",
       "      <td>-0.0001</td>\n",
       "      <td>21</td>\n",
       "      <td>29</td>\n",
       "      <td>136</td>\n",
       "      <td>141</td>\n",
       "      <td>7</td>\n",
       "      <td>3.162278</td>\n",
       "    </tr>\n",
       "    <tr>\n",
       "      <th>4</th>\n",
       "      <td>-0.0001</td>\n",
       "      <td>21</td>\n",
       "      <td>29</td>\n",
       "      <td>136</td>\n",
       "      <td>141</td>\n",
       "      <td>2</td>\n",
       "      <td>3.162278</td>\n",
       "    </tr>\n",
       "  </tbody>\n",
       "</table>\n",
       "</div>"
      ],
      "text/plain": [
       "   reward  numPantalla  obsequium  posx_G  posy_G  action      dist\n",
       "0 -0.0001           21         31     137     143       1  2.000000\n",
       "1 -0.0001           21         31     136     143       6  3.000000\n",
       "2 -0.0060           21         29     137     142       1  2.000000\n",
       "3 -0.0001           21         29     136     141       7  3.162278\n",
       "4 -0.0001           21         29     136     141       2  3.162278"
      ]
     },
     "execution_count": 36,
     "metadata": {},
     "output_type": "execute_result"
    }
   ],
   "source": [
    "df.head()"
   ]
  },
  {
   "cell_type": "markdown",
   "metadata": {
    "ExecuteTime": {
     "end_time": "2019-03-13T20:43:40.312601Z",
     "start_time": "2019-03-13T20:43:37.706445Z"
    }
   },
   "source": [
    "First we see the distribution fo rewards and wether it should be treated as a continuous (regression) or categorical (classification) parameter"
   ]
  },
  {
   "cell_type": "code",
   "execution_count": 37,
   "metadata": {
    "ExecuteTime": {
     "end_time": "2019-03-13T20:44:48.785702Z",
     "start_time": "2019-03-13T20:44:48.781703Z"
    }
   },
   "outputs": [
    {
     "data": {
      "text/plain": [
       "10"
      ]
     },
     "execution_count": 37,
     "metadata": {},
     "output_type": "execute_result"
    }
   ],
   "source": [
    "df['reward'].nunique()"
   ]
  },
  {
   "cell_type": "code",
   "execution_count": 38,
   "metadata": {
    "ExecuteTime": {
     "end_time": "2019-03-13T20:46:27.469808Z",
     "start_time": "2019-03-13T20:46:27.355845Z"
    },
    "scrolled": true
   },
   "outputs": [
    {
     "data": {
      "text/plain": [
       "Text(0.5,1,'Count of Rewards')"
      ]
     },
     "execution_count": 38,
     "metadata": {},
     "output_type": "execute_result"
    },
    {
     "data": {
      "image/png": "[encoded data removed]",
      "text/plain": [
       "<Figure size 432x288 with 1 Axes>"
      ]
     },
     "metadata": {},
     "output_type": "display_data"
    }
   ],
   "source": [
    "sns.countplot(data=df, x='reward')\n",
    "plt.title(\"Count of Rewards\")"
   ]
  },
  {
   "cell_type": "markdown",
   "metadata": {},
   "source": [
    "We can see that this is heavily unbalanced towards the -0.0001 reward (basically when nothing happens. "
   ]
  },
  {
   "cell_type": "markdown",
   "metadata": {},
   "source": [
    "We can also see if any specific room is more dangerous than others"
   ]
  },
  {
   "cell_type": "code",
   "execution_count": 39,
   "metadata": {
    "ExecuteTime": {
     "end_time": "2019-03-13T20:46:59.399293Z",
     "start_time": "2019-03-13T20:46:59.277332Z"
    }
   },
   "outputs": [
    {
     "data": {
      "text/plain": [
       "Text(0.5,1,'Dangerous rooms by average')"
      ]
     },
     "execution_count": 39,
     "metadata": {},
     "output_type": "execute_result"
    },
    {
     "data": {
      "image/png": "[encoded data removed]",
      "text/plain": [
       "<Figure size 432x288 with 1 Axes>"
      ]
     },
     "metadata": {},
     "output_type": "display_data"
    }
   ],
   "source": [
    "df.groupby('numPantalla').mean()['reward'].plot.bar()\n",
    "plt.xlabel(\"Room\")\n",
    "plt.ylabel(\"Avg. Reward\")\n",
    "plt.title(\"Dangerous rooms by average\")"
   ]
  },
  {
   "cell_type": "markdown",
   "metadata": {},
   "source": [
    "We also want to see if there is a correlation between Obsequium (whatever the hell that is) and the reward"
   ]
  },
  {
   "cell_type": "code",
   "execution_count": 40,
   "metadata": {
    "ExecuteTime": {
     "end_time": "2019-03-13T20:56:36.756803Z",
     "start_time": "2019-03-13T20:56:36.072034Z"
    }
   },
   "outputs": [
    {
     "data": {
      "text/plain": [
       "Text(0.5,1,'Reward by Ammount of Obsequium')"
      ]
     },
     "execution_count": 40,
     "metadata": {},
     "output_type": "execute_result"
    },
    {
     "data": {
      "image/png": "[encoded data removed]",
      "text/plain": [
       "<Figure size 432x288 with 1 Axes>"
      ]
     },
     "metadata": {},
     "output_type": "display_data"
    }
   ],
   "source": [
    "sns.scatterplot(data=df, x='obsequium', y='reward')\n",
    "plt.title(\"Reward by Ammount of Obsequium\")"
   ]
  },
  {
   "cell_type": "markdown",
   "metadata": {},
   "source": [
    "Ok.. it seems like when you hit 0 you die as the worst reward is there. "
   ]
  },
  {
   "cell_type": "markdown",
   "metadata": {},
   "source": [
    "Then we check actions by reward and count of actions to see if there is any information there"
   ]
  },
  {
   "cell_type": "code",
   "execution_count": 41,
   "metadata": {
    "ExecuteTime": {
     "end_time": "2019-03-13T20:55:41.159234Z",
     "start_time": "2019-03-13T20:55:40.852332Z"
    }
   },
   "outputs": [
    {
     "name": "stderr",
     "output_type": "stream",
     "text": [
      "E:\\Anaconda3\\envs\\basicdata\\lib\\site-packages\\scipy\\stats\\stats.py:1713: FutureWarning: Using a non-tuple sequence for multidimensional indexing is deprecated; use `arr[tuple(seq)]` instead of `arr[seq]`. In the future this will be interpreted as an array index, `arr[np.array(seq)]`, which will result either in an error or a different result.\n",
      "  return np.add.reduce(sorted[indexer] * weights, axis=axis) / sumval\n"
     ]
    },
    {
     "data": {
      "text/plain": [
       "Text(0.5,1,'Distribution of Actions when Obsequium = 0')"
      ]
     },
     "execution_count": 41,
     "metadata": {},
     "output_type": "execute_result"
    },
    {
     "data": {
      "image/png": "[encoded data removed]",
      "text/plain": [
       "<Figure size 1080x360 with 3 Axes>"
      ]
     },
     "metadata": {},
     "output_type": "display_data"
    }
   ],
   "source": [
    "plt.subplots(figsize=(15,5))\n",
    "plt.subplot(1,3,1)\n",
    "sns.distplot(df['action'], kde=False)\n",
    "plt.title('Distribution of Actions')\n",
    "plt.subplot(1,3,2)\n",
    "sns.distplot(df.loc[df['reward'] == -1, 'action'], kde=False)\n",
    "plt.title(\"Distribution of Actions when Reward = -1\")\n",
    "plt.subplot(1,3,3)\n",
    "sns.distplot(df.loc[df['obsequium'] == 0, 'action'], kde=False)\n",
    "plt.title(\"Distribution of Actions when Obsequium = 0\")"
   ]
  },
  {
   "cell_type": "markdown",
   "metadata": {},
   "source": [
    "We plot the distribution of distance to see how it behaves in univariate"
   ]
  },
  {
   "cell_type": "code",
   "execution_count": 42,
   "metadata": {
    "ExecuteTime": {
     "end_time": "2019-03-13T21:01:25.955319Z",
     "start_time": "2019-03-13T21:01:24.519454Z"
    }
   },
   "outputs": [
    {
     "name": "stderr",
     "output_type": "stream",
     "text": [
      "E:\\Anaconda3\\envs\\basicdata\\lib\\site-packages\\scipy\\stats\\stats.py:1713: FutureWarning: Using a non-tuple sequence for multidimensional indexing is deprecated; use `arr[tuple(seq)]` instead of `arr[seq]`. In the future this will be interpreted as an array index, `arr[np.array(seq)]`, which will result either in an error or a different result.\n",
      "  return np.add.reduce(sorted[indexer] * weights, axis=axis) / sumval\n"
     ]
    },
    {
     "data": {
      "text/plain": [
       "<matplotlib.axes._subplots.AxesSubplot at 0x215f95c1f28>"
      ]
     },
     "execution_count": 42,
     "metadata": {},
     "output_type": "execute_result"
    },
    {
     "data": {
      "image/png": "[encoded data removed]",
      "text/plain": [
       "<Figure size 432x288 with 1 Axes>"
      ]
     },
     "metadata": {},
     "output_type": "display_data"
    }
   ],
   "source": [
    "sns.distplot(df['dist'])"
   ]
  },
  {
   "cell_type": "markdown",
   "metadata": {},
   "source": [
    "We can see that although there are some large values, in the vast majority of the cases, Guillermo and Adso are close to each other"
   ]
  },
  {
   "cell_type": "code",
   "execution_count": 43,
   "metadata": {},
   "outputs": [
    {
     "data": {
      "text/plain": [
       "<matplotlib.axes._subplots.AxesSubplot at 0x215d6d74390>"
      ]
     },
     "execution_count": 43,
     "metadata": {},
     "output_type": "execute_result"
    },
    {
     "data": {
      "image/png": "[encoded data removed]",
      "text/plain": [
       "<Figure size 432x288 with 1 Axes>"
      ]
     },
     "metadata": {},
     "output_type": "display_data"
    }
   ],
   "source": [
    "sns.scatterplot(data=df, x='dist', y='reward')"
   ]
  },
  {
   "cell_type": "code",
   "execution_count": 51,
   "metadata": {},
   "outputs": [
    {
     "name": "stdout",
     "output_type": "stream",
     "text": [
      "Steps with -1 reward:  470\n",
      "Steps with 0 Obsequium:  3776\n"
     ]
    }
   ],
   "source": [
    "print('Steps with -1 reward: ', len(df[df['reward'] == -1]))\n",
    "print('Steps with 0 Obsequium: ', len(df[df['obsequium'] == 0]))"
   ]
  },
  {
   "cell_type": "markdown",
   "metadata": {},
   "source": [
    "Seems like we have more steps with 0 obsequium but not with -1 reward. We originally thought that those would be the same as it meanth deth and therefore the lowest reward possible. We will check the distribution of each other with the min of each"
   ]
  },
  {
   "cell_type": "code",
   "execution_count": 53,
   "metadata": {},
   "outputs": [
    {
     "name": "stderr",
     "output_type": "stream",
     "text": [
      "E:\\Anaconda3\\envs\\basicdata\\lib\\site-packages\\scipy\\stats\\stats.py:1713: FutureWarning: Using a non-tuple sequence for multidimensional indexing is deprecated; use `arr[tuple(seq)]` instead of `arr[seq]`. In the future this will be interpreted as an array index, `arr[np.array(seq)]`, which will result either in an error or a different result.\n",
      "  return np.add.reduce(sorted[indexer] * weights, axis=axis) / sumval\n",
      "E:\\Anaconda3\\envs\\basicdata\\lib\\site-packages\\statsmodels\\nonparametric\\kde.py:488: RuntimeWarning: invalid value encountered in true_divide\n",
      "  binned = fast_linbin(X, a, b, gridsize) / (delta * nobs)\n",
      "E:\\Anaconda3\\envs\\basicdata\\lib\\site-packages\\statsmodels\\nonparametric\\kdetools.py:34: RuntimeWarning: invalid value encountered in double_scalars\n",
      "  FAC1 = 2*(np.pi*bw/RANGE)**2\n",
      "E:\\Anaconda3\\envs\\basicdata\\lib\\site-packages\\numpy\\core\\fromnumeric.py:83: RuntimeWarning: invalid value encountered in reduce\n",
      "  return ufunc.reduce(obj, axis, dtype, out, **passkwargs)\n"
     ]
    },
    {
     "data": {
      "image/png": "[encoded data removed]",
      "text/plain": [
       "<Figure size 1080x360 with 2 Axes>"
      ]
     },
     "metadata": {},
     "output_type": "display_data"
    }
   ],
   "source": [
    "plt.subplots(figsize=(15,5))\n",
    "plt.subplot(1,2,1)\n",
    "sns.distplot(df.loc[df['reward'] == -1, 'obsequium'], color='red')\n",
    "plt.title(\"Distribution of Obsequium with Reward = -1\")\n",
    "plt.subplot(1,2,2)\n",
    "sns.distplot(df.loc[df['obsequium'] == 0, 'reward'], color='blue')\n",
    "plt.title(\"Distribution of Reward when Obsequium is 0\")\n",
    "plt.tight_layout()"
   ]
  },
  {
   "cell_type": "markdown",
   "metadata": {},
   "source": [
    "So it seems every time we had reward = -1 it meant that the obsequium was 0. But not every time obsequium was 0 it meant that we had -1 reward. In fact most of the times we had close to 0 reward. This is something we could investigate in the future"
   ]
  },
  {
   "cell_type": "markdown",
   "metadata": {},
   "source": [
    "Finally we can plot against the position in X and Y which should show us an overview of the game world"
   ]
  },
  {
   "cell_type": "code",
   "execution_count": 54,
   "metadata": {},
   "outputs": [
    {
     "data": {
      "text/html": [
       "<div>\n",
       "<style scoped>\n",
       "    .dataframe tbody tr th:only-of-type {\n",
       "        vertical-align: middle;\n",
       "    }\n",
       "\n",
       "    .dataframe tbody tr th {\n",
       "        vertical-align: top;\n",
       "    }\n",
       "\n",
       "    .dataframe thead th {\n",
       "        text-align: right;\n",
       "    }\n",
       "</style>\n",
       "<table border=\"1\" class=\"dataframe\">\n",
       "  <thead>\n",
       "    <tr style=\"text-align: right;\">\n",
       "      <th></th>\n",
       "      <th>reward</th>\n",
       "      <th>numPantalla</th>\n",
       "      <th>obsequium</th>\n",
       "      <th>posx_G</th>\n",
       "      <th>posy_G</th>\n",
       "      <th>action</th>\n",
       "      <th>dist</th>\n",
       "    </tr>\n",
       "  </thead>\n",
       "  <tbody>\n",
       "    <tr>\n",
       "      <th>0</th>\n",
       "      <td>-0.0001</td>\n",
       "      <td>21</td>\n",
       "      <td>31</td>\n",
       "      <td>137</td>\n",
       "      <td>143</td>\n",
       "      <td>1</td>\n",
       "      <td>2.000000</td>\n",
       "    </tr>\n",
       "    <tr>\n",
       "      <th>1</th>\n",
       "      <td>-0.0001</td>\n",
       "      <td>21</td>\n",
       "      <td>31</td>\n",
       "      <td>136</td>\n",
       "      <td>143</td>\n",
       "      <td>6</td>\n",
       "      <td>3.000000</td>\n",
       "    </tr>\n",
       "    <tr>\n",
       "      <th>2</th>\n",
       "      <td>-0.0060</td>\n",
       "      <td>21</td>\n",
       "      <td>29</td>\n",
       "      <td>137</td>\n",
       "      <td>142</td>\n",
       "      <td>1</td>\n",
       "      <td>2.000000</td>\n",
       "    </tr>\n",
       "    <tr>\n",
       "      <th>3</th>\n",
       "      <td>-0.0001</td>\n",
       "      <td>21</td>\n",
       "      <td>29</td>\n",
       "      <td>136</td>\n",
       "      <td>141</td>\n",
       "      <td>7</td>\n",
       "      <td>3.162278</td>\n",
       "    </tr>\n",
       "    <tr>\n",
       "      <th>4</th>\n",
       "      <td>-0.0001</td>\n",
       "      <td>21</td>\n",
       "      <td>29</td>\n",
       "      <td>136</td>\n",
       "      <td>141</td>\n",
       "      <td>2</td>\n",
       "      <td>3.162278</td>\n",
       "    </tr>\n",
       "  </tbody>\n",
       "</table>\n",
       "</div>"
      ],
      "text/plain": [
       "   reward  numPantalla  obsequium  posx_G  posy_G  action      dist\n",
       "0 -0.0001           21         31     137     143       1  2.000000\n",
       "1 -0.0001           21         31     136     143       6  3.000000\n",
       "2 -0.0060           21         29     137     142       1  2.000000\n",
       "3 -0.0001           21         29     136     141       7  3.162278\n",
       "4 -0.0001           21         29     136     141       2  3.162278"
      ]
     },
     "execution_count": 54,
     "metadata": {},
     "output_type": "execute_result"
    }
   ],
   "source": [
    "df.head()"
   ]
  },
  {
   "cell_type": "markdown",
   "metadata": {},
   "source": [
    "![section](images/section.png)"
   ]
  },
  {
   "cell_type": "code",
   "execution_count": 121,
   "metadata": {
    "scrolled": false
   },
   "outputs": [
    {
     "data": {
      "image/png": "[encoded data removed]",
      "text/plain": [
       "<Figure size 1152x864 with 2 Axes>"
      ]
     },
     "metadata": {},
     "output_type": "display_data"
    }
   ],
   "source": [
    "plt.subplots(figsize=(16,12))\n",
    "reward_map_p = df.groupby(by=['posx_G', 'posy_G']).mean().pivot_table('reward', 'posy_G', 'posx_G')\n",
    "heatmap = plt.cm.get_cmap(\"magma\")\n",
    "heatmap.set_bad(color=\"#666666\")\n",
    "sns.heatmap(reward_map_p, cmap=heatmap, xticklabels=False, yticklabels=False)\n",
    "plt.title(\"Average Reward per Coordinate\")\n",
    "plt.xlabel('X Pos')\n",
    "plt.ylabel('Y Pos');\n"
   ]
  },
  {
   "cell_type": "markdown",
   "metadata": {},
   "source": [
    "This graph shows us that the reward is mostly close to 0 ion the entrance and as it goes on exploring the average reward gets worse. There are some spots in the farthest reaches that have very negative rewards. They look like \"sure death spots\""
   ]
  },
  {
   "cell_type": "code",
   "execution_count": 122,
   "metadata": {},
   "outputs": [
    {
     "data": {
      "image/png": "[encoded data removed]",
      "text/plain": [
       "<Figure size 1152x864 with 2 Axes>"
      ]
     },
     "metadata": {},
     "output_type": "display_data"
    }
   ],
   "source": [
    "plt.subplots(figsize=(16,12))\n",
    "reward_map_p = df.groupby(by=['posx_G', 'posy_G']).mean().pivot_table('obsequium', 'posy_G', 'posx_G')\n",
    "heatmap = plt.cm.get_cmap(\"magma\")\n",
    "heatmap.set_bad(color=\"#666666\")\n",
    "sns.heatmap(reward_map_p, cmap=heatmap, yticklabels=False, xticklabels=False)\n",
    "plt.title(\"Average Obsequium per Coordinate\")\n",
    "plt.xlabel('X Pos')\n",
    "plt.ylabel('Y Pos');\n"
   ]
  },
  {
   "cell_type": "markdown",
   "metadata": {},
   "source": [
    "In this map we can see the average obsequium as it goes down. We remember that obsequium 0 is related to dying.  \n",
    "We can see that the entrance is a high obsequium range as it's a brand new game. But as soon as it starts exploring it starts going down and finally hits 0 close to the areas furthest explored"
   ]
  },
  {
   "cell_type": "markdown",
   "metadata": {},
   "source": [
    "We also want to check of there are any \"safe spots\" were we never die. For this we will check the minimum reward for every coordinate"
   ]
  },
  {
   "cell_type": "code",
   "execution_count": 123,
   "metadata": {},
   "outputs": [
    {
     "data": {
      "image/png": "[encoded data removed]",
      "text/plain": [
       "<Figure size 1152x864 with 2 Axes>"
      ]
     },
     "metadata": {},
     "output_type": "display_data"
    }
   ],
   "source": [
    "plt.subplots(figsize=(16,12))\n",
    "reward_map_p = df.groupby(by=['posx_G', 'posy_G']).min().pivot_table('reward', 'posy_G', 'posx_G')\n",
    "heatmap = plt.cm.get_cmap(\"magma\")\n",
    "heatmap.set_bad(color=\"#666666\")\n",
    "sns.heatmap(reward_map_p, cmap=heatmap, xticklabels=False, yticklabels=False)\n",
    "plt.title(\"Minimum Reward per Coordinate\")\n",
    "plt.xlabel('X Pos')\n",
    "plt.ylabel('Y Pos');\n"
   ]
  },
  {
   "cell_type": "markdown",
   "metadata": {},
   "source": [
    "![death](images/death.jpg)"
   ]
  },
  {
   "cell_type": "code",
   "execution_count": 233,
   "metadata": {},
   "outputs": [
    {
     "data": {
      "image/png": "[encoded data removed]",
      "text/plain": [
       "<Figure size 1152x864 with 2 Axes>"
      ]
     },
     "metadata": {},
     "output_type": "display_data"
    }
   ],
   "source": [
    "plt.subplots(figsize=(16,12))\n",
    "reward_map_p = df.groupby(by=['posx_G', 'posy_G']).min().pivot_table('obsequium', 'posy_G', 'posx_G')\n",
    "heatmap = plt.cm.get_cmap(\"magma\")\n",
    "heatmap.set_bad(color=\"#666666\")\n",
    "sns.heatmap(reward_map_p, cmap=heatmap, xticklabels=False, yticklabels=False)\n",
    "plt.title(\"Minimum Obsequium per Coordinate\")\n",
    "plt.xlabel('X Pos')\n",
    "plt.ylabel('Y Pos');\n"
   ]
  },
  {
   "cell_type": "markdown",
   "metadata": {},
   "source": [
    "From this graph we can see that we can die pretty much everywhere. Althought most deaths seem to be sticking to walls. It could be the random agent taking actions like move against a wall as it being the least worst action. This could mean that we need to tweak the reward function a bit to incetivize the agent to take riskier moves. But the main takeaway is that we can die anywhere"
   ]
  },
  {
   "cell_type": "markdown",
   "metadata": {},
   "source": [
    "## Modelling"
   ]
  },
  {
   "cell_type": "markdown",
   "metadata": {},
   "source": [
    "### LinearRegression "
   ]
  },
  {
   "cell_type": "markdown",
   "metadata": {},
   "source": [
    "**PySpark**"
   ]
  },
  {
   "cell_type": "code",
   "execution_count": 125,
   "metadata": {},
   "outputs": [
    {
     "name": "stdout",
     "output_type": "stream",
     "text": [
      "root\n",
      " |-- reward: double (nullable = true)\n",
      " |-- numPantalla: long (nullable = true)\n",
      " |-- obsequium: long (nullable = true)\n",
      " |-- posx_G: long (nullable = true)\n",
      " |-- posy_G: long (nullable = true)\n",
      " |-- action: long (nullable = true)\n",
      " |-- dist: double (nullable = true)\n",
      "\n"
     ]
    }
   ],
   "source": [
    "data.printSchema()"
   ]
  },
  {
   "cell_type": "code",
   "execution_count": 129,
   "metadata": {},
   "outputs": [],
   "source": [
    "from pyspark.ml.feature import VectorAssembler, OneHotEncoder\n",
    "from pyspark.ml.pipeline import Pipeline\n",
    "from pyspark.ml.regression import LinearRegression"
   ]
  },
  {
   "cell_type": "code",
   "execution_count": 234,
   "metadata": {},
   "outputs": [],
   "source": [
    "encoder_num = OneHotEncoder(inputCol='numPantalla', outputCol='numPantallaVec')\n",
    "encoder_action = OneHotEncoder(inputCol='action', outputCol='actionVec')\n",
    "assembler = VectorAssembler(inputCols=[\n",
    "    'numPantallaVec',\n",
    "    'obsequium',\n",
    "    'posx_G',\n",
    "    'posy_G',\n",
    "    'actionVec',\n",
    "    'dist',\n",
    "],\n",
    "    outputCol='features'\n",
    ")\n",
    "lr_model_spark = LinearRegression(featuresCol='features', labelCol='reward')"
   ]
  },
  {
   "cell_type": "code",
   "execution_count": 235,
   "metadata": {},
   "outputs": [],
   "source": [
    "pipe = Pipeline(stages=[encoder_num, encoder_action,\n",
    "                        assembler])"
   ]
  },
  {
   "cell_type": "code",
   "execution_count": 236,
   "metadata": {},
   "outputs": [],
   "source": [
    "final_data = pipe.fit(data).transform(data)"
   ]
  },
  {
   "cell_type": "code",
   "execution_count": 238,
   "metadata": {},
   "outputs": [],
   "source": [
    "train_data, test_data = final_data.randomSplit([0.6, 0.4], 8008)"
   ]
  },
  {
   "cell_type": "markdown",
   "metadata": {},
   "source": [
    "![Model Training](images/modeltrain.jpg)"
   ]
  },
  {
   "cell_type": "code",
   "execution_count": 239,
   "metadata": {},
   "outputs": [],
   "source": [
    "fit_model = lr_model_spark.fit(train_data)"
   ]
  },
  {
   "cell_type": "code",
   "execution_count": 240,
   "metadata": {},
   "outputs": [],
   "source": [
    "results = fit_model.evaluate(test_data)"
   ]
  },
  {
   "cell_type": "code",
   "execution_count": 241,
   "metadata": {},
   "outputs": [
    {
     "name": "stdout",
     "output_type": "stream",
     "text": [
      "R2 of our Model: 0.013589132528264547\n",
      "RMSE of our Model: 0.07131702371754653\n"
     ]
    }
   ],
   "source": [
    "print(\"R2 of our Model: {}\".format(results.r2))\n",
    "print(\"RMSE of our Model: {}\".format(results.rootMeanSquaredError))"
   ]
  },
  {
   "cell_type": "markdown",
   "metadata": {},
   "source": [
    "Our model SUCKS SOOOO MUCH !"
   ]
  },
  {
   "cell_type": "markdown",
   "metadata": {},
   "source": [
    "![sucks](images/ugh.jpg)"
   ]
  },
  {
   "cell_type": "markdown",
   "metadata": {},
   "source": [
    "We then tried to remove the categorization of numPantallas and actions and see if it makes the model any better. But first we will check correlation between the variables/"
   ]
  },
  {
   "cell_type": "code",
   "execution_count": 151,
   "metadata": {},
   "outputs": [
    {
     "data": {
      "text/plain": [
       "<matplotlib.axes._subplots.AxesSubplot at 0x21591529358>"
      ]
     },
     "execution_count": 151,
     "metadata": {},
     "output_type": "execute_result"
    },
    {
     "data": {
      "image/png": "[encoded data removed]",
      "text/plain": [
       "<Figure size 720x720 with 2 Axes>"
      ]
     },
     "metadata": {},
     "output_type": "display_data"
    }
   ],
   "source": [
    "plt.subplots(figsize=(10,10))\n",
    "sns.heatmap(data.toPandas().corr(), square=True, annot=True)"
   ]
  },
  {
   "cell_type": "markdown",
   "metadata": {},
   "source": [
    "Seems like action is completely independent from the reward, so is the distance, the numPantalla"
   ]
  },
  {
   "cell_type": "markdown",
   "metadata": {},
   "source": [
    "### Otra Oportunidad!"
   ]
  },
  {
   "cell_type": "code",
   "execution_count": 154,
   "metadata": {},
   "outputs": [],
   "source": [
    "assembler = VectorAssembler(inputCols=[\n",
    "    'obsequium',\n",
    "    'posx_G',\n",
    "    'posy_G',\n",
    "],\n",
    "    outputCol='features')"
   ]
  },
  {
   "cell_type": "code",
   "execution_count": 156,
   "metadata": {},
   "outputs": [],
   "source": [
    "final_data = assembler.transform(data)"
   ]
  },
  {
   "cell_type": "code",
   "execution_count": 157,
   "metadata": {},
   "outputs": [],
   "source": [
    "train_data, test_data = final_data.randomSplit([0.6, 0.4], 8008)"
   ]
  },
  {
   "cell_type": "code",
   "execution_count": 158,
   "metadata": {},
   "outputs": [],
   "source": [
    "lr_model_spark2 = LinearRegression(labelCol='reward')"
   ]
  },
  {
   "cell_type": "code",
   "execution_count": 159,
   "metadata": {},
   "outputs": [],
   "source": [
    "fit_model = lr_model_spark2.fit(train_data)"
   ]
  },
  {
   "cell_type": "code",
   "execution_count": 160,
   "metadata": {},
   "outputs": [],
   "source": [
    "results = fit_model.evaluate(test_data)"
   ]
  },
  {
   "cell_type": "code",
   "execution_count": 161,
   "metadata": {},
   "outputs": [
    {
     "name": "stdout",
     "output_type": "stream",
     "text": [
      "R2 of our Model: 0.013219187206172323\n",
      "RMSE of our Model: 0.07133039589689089\n"
     ]
    }
   ],
   "source": [
    "print(\"R2 of our Model: {}\".format(results.r2))\n",
    "print(\"RMSE of our Model: {}\".format(results.rootMeanSquaredError))"
   ]
  },
  {
   "cell_type": "markdown",
   "metadata": {},
   "source": [
    "**Nice!  made it even worse!!!**"
   ]
  },
  {
   "cell_type": "markdown",
   "metadata": {},
   "source": [
    "![rain](images/rain.gif)"
   ]
  },
  {
   "cell_type": "markdown",
   "metadata": {},
   "source": [
    "We add the uncorrelated features again but without categorizing them"
   ]
  },
  {
   "cell_type": "markdown",
   "metadata": {},
   "source": [
    "### Otra Oportunidad!"
   ]
  },
  {
   "cell_type": "code",
   "execution_count": 163,
   "metadata": {},
   "outputs": [],
   "source": [
    "assembler = VectorAssembler(inputCols=[\n",
    "    'obsequium',\n",
    "    'posx_G',\n",
    "    'posy_G',\n",
    "    'numPantalla',\n",
    "    'action',\n",
    "    'dist'\n",
    "],\n",
    "    outputCol='features')"
   ]
  },
  {
   "cell_type": "code",
   "execution_count": 164,
   "metadata": {},
   "outputs": [],
   "source": [
    "final_data = assembler.transform(data)\n",
    "train_data, test_data = final_data.randomSplit([0.6, 0.4], 8008)"
   ]
  },
  {
   "cell_type": "code",
   "execution_count": 165,
   "metadata": {},
   "outputs": [],
   "source": [
    "lr_model_spark3 = LinearRegression(labelCol='reward')\n",
    "fit_model = lr_model_spark2.fit(train_data)\n",
    "results = fit_model.evaluate(test_data)"
   ]
  },
  {
   "cell_type": "code",
   "execution_count": 166,
   "metadata": {},
   "outputs": [
    {
     "name": "stdout",
     "output_type": "stream",
     "text": [
      "R2 of our Model: 0.013255711369180245\n",
      "RMSE of our Model: 0.07132907579262789\n"
     ]
    }
   ],
   "source": [
    "print(\"R2 of our Model: {}\".format(results.r2))\n",
    "print(\"RMSE of our Model: {}\".format(results.rootMeanSquaredError))"
   ]
  },
  {
   "cell_type": "markdown",
   "metadata": {},
   "source": [
    "### Otra Oportuinidad!"
   ]
  },
  {
   "cell_type": "code",
   "execution_count": 169,
   "metadata": {},
   "outputs": [],
   "source": [
    "assembler = VectorAssembler(inputCols=[\n",
    "    'posx_G',\n",
    "    'posy_G',\n",
    "],\n",
    "    outputCol='features')"
   ]
  },
  {
   "cell_type": "code",
   "execution_count": 170,
   "metadata": {},
   "outputs": [],
   "source": [
    "final_data = assembler.transform(data)\n",
    "train_data, test_data = final_data.randomSplit([0.6, 0.4], 8008)"
   ]
  },
  {
   "cell_type": "code",
   "execution_count": 171,
   "metadata": {},
   "outputs": [],
   "source": [
    "lr_model_spark3 = LinearRegression(labelCol='reward')\n",
    "fit_model = lr_model_spark2.fit(train_data)\n",
    "results = fit_model.evaluate(test_data)"
   ]
  },
  {
   "cell_type": "code",
   "execution_count": 172,
   "metadata": {},
   "outputs": [
    {
     "name": "stdout",
     "output_type": "stream",
     "text": [
      "R2 of our Model: 0.000370927692750489\n",
      "RMSE of our Model: 0.07179326844630023\n"
     ]
    }
   ],
   "source": [
    "print(\"R2 of our Model: {}\".format(results.r2))\n",
    "print(\"RMSE of our Model: {}\".format(results.rootMeanSquaredError))"
   ]
  },
  {
   "cell_type": "markdown",
   "metadata": {},
   "source": [
    "![sad](images/worse.jpg)"
   ]
  },
  {
   "cell_type": "markdown",
   "metadata": {},
   "source": [
    "As a last attempt. We see that the distinct values for reward are only 10, so this could be made into a classification problem"
   ]
  },
  {
   "cell_type": "code",
   "execution_count": 173,
   "metadata": {},
   "outputs": [
    {
     "name": "stdout",
     "output_type": "stream",
     "text": [
      "root\n",
      " |-- reward: double (nullable = true)\n",
      " |-- numPantalla: long (nullable = true)\n",
      " |-- obsequium: long (nullable = true)\n",
      " |-- posx_G: long (nullable = true)\n",
      " |-- posy_G: long (nullable = true)\n",
      " |-- action: long (nullable = true)\n",
      " |-- dist: double (nullable = true)\n",
      "\n"
     ]
    }
   ],
   "source": [
    "data.printSchema()"
   ]
  },
  {
   "cell_type": "code",
   "execution_count": 184,
   "metadata": {},
   "outputs": [],
   "source": [
    "from pyspark.ml.feature import StringIndexer\n",
    "from pyspark.ml.classification import LogisticRegression, RandomForestClassifier\n",
    "from pyspark.ml.evaluation import MulticlassClassificationEvaluator"
   ]
  },
  {
   "cell_type": "code",
   "execution_count": 204,
   "metadata": {},
   "outputs": [],
   "source": [
    "indexer = StringIndexer(inputCol='reward', outputCol='rewardInd')\n",
    "encoder_num = OneHotEncoder(inputCol='numPantalla', outputCol=\"numPantallaVec\")\n",
    "encoder_action = OneHotEncoder(inputCol='action', outputCol='actionVec')\n",
    "assembler = VectorAssembler(inputCols=[\n",
    "                            \"numPantallaVec\",\n",
    "                            \"obsequium\",\n",
    "                            \"posx_G\",\n",
    "                            \"posy_G\",\n",
    "                            \"actionVec\"],\n",
    "                            outputCol='features')"
   ]
  },
  {
   "cell_type": "code",
   "execution_count": 208,
   "metadata": {},
   "outputs": [],
   "source": [
    "final_data = indexer.fit(data).transform(data)\n",
    "final_data = encoder_num.transform(final_data)\n",
    "final_data = encoder_action.transform(final_data)\n",
    "final_data = assembler.transform(final_data)\n",
    "train_data, test_data = final_data.randomSplit([0.6, 0.4], 8008)"
   ]
  },
  {
   "cell_type": "code",
   "execution_count": 209,
   "metadata": {},
   "outputs": [],
   "source": [
    "evaluator = MulticlassClassificationEvaluator(labelCol='rewardInd')"
   ]
  },
  {
   "cell_type": "code",
   "execution_count": 210,
   "metadata": {},
   "outputs": [],
   "source": [
    "log_reg_model = LogisticRegression(featuresCol='features', labelCol='rewardInd')\n",
    "fit_model = log_reg_model.fit(train_data)\n",
    "results = fit_model.transform(test_data)"
   ]
  },
  {
   "cell_type": "code",
   "execution_count": 211,
   "metadata": {},
   "outputs": [
    {
     "data": {
      "text/plain": [
       "0.8237246844382207"
      ]
     },
     "execution_count": 211,
     "metadata": {},
     "output_type": "execute_result"
    }
   ],
   "source": [
    "evaluator.evaluate(results)"
   ]
  },
  {
   "cell_type": "markdown",
   "metadata": {
    "colab": {},
    "colab_type": "code",
    "id": "2mfsxNGlrHt-"
   },
   "source": [
    "![balance2](images/unbalanced2.jpg)"
   ]
  },
  {
   "cell_type": "code",
   "execution_count": 212,
   "metadata": {
    "colab": {},
    "colab_type": "code",
    "id": "6yjMK7YhKq6W"
   },
   "outputs": [
    {
     "name": "stdout",
     "output_type": "stream",
     "text": [
      "+-------+-----+\n",
      "| reward|count|\n",
      "+-------+-----+\n",
      "|  0.005|  109|\n",
      "|   -1.0|  184|\n",
      "| -0.003|  174|\n",
      "| -0.005|  167|\n",
      "| -0.002|  120|\n",
      "|-1.0E-4|29164|\n",
      "| -0.006| 2111|\n",
      "|  0.001| 2723|\n",
      "|  0.004|  741|\n",
      "| -0.001|    4|\n",
      "+-------+-----+\n",
      "\n"
     ]
    }
   ],
   "source": [
    "results.groupBy('reward').count().show()"
   ]
  },
  {
   "cell_type": "code",
   "execution_count": 213,
   "metadata": {
    "colab": {},
    "colab_type": "code",
    "id": "YFJcnZTgGvPd"
   },
   "outputs": [
    {
     "name": "stdout",
     "output_type": "stream",
     "text": [
      "+----------+-----+\n",
      "|prediction|count|\n",
      "+----------+-----+\n",
      "|       0.0|31453|\n",
      "|       1.0| 4016|\n",
      "|       3.0|   23|\n",
      "|       9.0|    5|\n",
      "+----------+-----+\n",
      "\n"
     ]
    }
   ],
   "source": [
    "results.groupBy('prediction').count().show()"
   ]
  },
  {
   "cell_type": "markdown",
   "metadata": {
    "colab": {},
    "colab_type": "code",
    "id": "9asumRNUBugf"
   },
   "source": [
    "![fine](images/fine.jpg)"
   ]
  },
  {
   "cell_type": "markdown",
   "metadata": {
    "colab": {},
    "colab_type": "code",
    "id": "TeMY0K7o9WTX"
   },
   "source": [
    "### Random Forest"
   ]
  },
  {
   "cell_type": "code",
   "execution_count": 216,
   "metadata": {},
   "outputs": [],
   "source": [
    "indexer = StringIndexer(inputCol='reward', outputCol='rewardInd')\n",
    "encoder_num = OneHotEncoder(inputCol='numPantalla', outputCol=\"numPantallaVec\")\n",
    "encoder_action = OneHotEncoder(inputCol='action', outputCol='actionVec')\n",
    "assembler = VectorAssembler(inputCols=[\n",
    "                            \"numPantallaVec\",\n",
    "                            \"obsequium\",\n",
    "                            \"posx_G\",\n",
    "                            \"posy_G\",\n",
    "                            \"actionVec\"],\n",
    "                            outputCol='features')"
   ]
  },
  {
   "cell_type": "code",
   "execution_count": 217,
   "metadata": {},
   "outputs": [],
   "source": [
    "final_data = indexer.fit(data).transform(data)\n",
    "final_data = encoder_num.transform(final_data)\n",
    "final_data = encoder_action.transform(final_data)\n",
    "final_data = assembler.transform(final_data)\n",
    "train_data, test_data = final_data.randomSplit([0.6, 0.4], 8008)"
   ]
  },
  {
   "cell_type": "code",
   "execution_count": 218,
   "metadata": {},
   "outputs": [],
   "source": [
    "evaluator = MulticlassClassificationEvaluator(labelCol='rewardInd')"
   ]
  },
  {
   "cell_type": "code",
   "execution_count": 219,
   "metadata": {},
   "outputs": [],
   "source": [
    "rf_model = RandomForestClassifier(labelCol=\"rewardInd\", numTrees=100)\n",
    "fit_model = rf_model.fit(train_data)\n",
    "results = fit_model.transform(test_data)"
   ]
  },
  {
   "cell_type": "code",
   "execution_count": 220,
   "metadata": {},
   "outputs": [
    {
     "data": {
      "text/plain": [
       "0.7430500119314015"
      ]
     },
     "execution_count": 220,
     "metadata": {},
     "output_type": "execute_result"
    }
   ],
   "source": [
    "evaluator.evaluate(results)"
   ]
  },
  {
   "cell_type": "markdown",
   "metadata": {},
   "source": [
    "This could be a bit better. But it's most likely still because of the unbalanced dataset"
   ]
  },
  {
   "cell_type": "code",
   "execution_count": 224,
   "metadata": {},
   "outputs": [],
   "source": [
    "test_cm = results.select(['rewardInd', 'prediction']).toPandas()"
   ]
  },
  {
   "cell_type": "code",
   "execution_count": 226,
   "metadata": {},
   "outputs": [],
   "source": [
    "from sklearn.metrics import classification_report, confusion_matrix"
   ]
  },
  {
   "cell_type": "code",
   "execution_count": 228,
   "metadata": {},
   "outputs": [
    {
     "name": "stdout",
     "output_type": "stream",
     "text": [
      "[[29155     9     0     0     0     0     0     0     0     0]\n",
      " [ 2694    29     0     0     0     0     0     0     0     0]\n",
      " [ 2111     0     0     0     0     0     0     0     0     0]\n",
      " [  741     0     0     0     0     0     0     0     0     0]\n",
      " [  180     4     0     0     0     0     0     0     0     0]\n",
      " [  173     1     0     0     0     0     0     0     0     0]\n",
      " [  167     0     0     0     0     0     0     0     0     0]\n",
      " [  117     3     0     0     0     0     0     0     0     0]\n",
      " [  107     2     0     0     0     0     0     0     0     0]\n",
      " [    4     0     0     0     0     0     0     0     0     0]]\n"
     ]
    }
   ],
   "source": [
    "print(confusion_matrix(test_cm['rewardInd'], test_cm['prediction']))"
   ]
  },
  {
   "cell_type": "markdown",
   "metadata": {},
   "source": [
    "Code to print CM without going to pandas. "
   ]
  },
  {
   "cell_type": "code",
   "execution_count": 230,
   "metadata": {},
   "outputs": [],
   "source": [
    "# from pyspark.mllib.evaluation import MulticlassMetrics\n",
    "# # Create (prediction, label) pairs\n",
    "# predictionAndLabel = results.select(\"prediction\", \"rewardInd\").rdd\n",
    "\n",
    "# # Generate confusion matrix\n",
    "# metrics = MulticlassMetrics(predictionAndLabel)\n",
    "# print(metrics.confusionMatrix())\n"
   ]
  },
  {
   "cell_type": "markdown",
   "metadata": {},
   "source": [
    "## Visualizing predictions"
   ]
  },
  {
   "cell_type": "code",
   "execution_count": 242,
   "metadata": {},
   "outputs": [],
   "source": [
    "preds = fit_model.transform(test_data)"
   ]
  },
  {
   "cell_type": "code",
   "execution_count": 244,
   "metadata": {},
   "outputs": [],
   "source": [
    "map_data_2 = preds.select(['prediction', 'posx_G', 'posy_G']).toPandas()"
   ]
  },
  {
   "cell_type": "markdown",
   "metadata": {},
   "source": [
    "**Python**"
   ]
  },
  {
   "cell_type": "code",
   "execution_count": 246,
   "metadata": {},
   "outputs": [
    {
     "data": {
      "image/png": "[encoded data removed]",
      "text/plain": [
       "<Figure size 1152x864 with 2 Axes>"
      ]
     },
     "metadata": {},
     "output_type": "display_data"
    }
   ],
   "source": [
    "plt.subplots(figsize=(16,12))\n",
    "reward_map_p = map_data_2.pivot_table('prediction', 'posy_G', 'posx_G')\n",
    "heatmap = plt.cm.get_cmap(\"magma\")\n",
    "heatmap.set_bad(color=\"#666666\")\n",
    "sns.heatmap(reward_map_p, cmap=heatmap, xticklabels=False, yticklabels=False)\n",
    "plt.title(\"Average Reward Prediction per Coordinate\")\n",
    "plt.xlabel('X Pos')\n",
    "plt.ylabel('Y Pos');\n"
   ]
  },
  {
   "cell_type": "markdown",
   "metadata": {},
   "source": [
    "![ml](images/ml.jpg)"
   ]
  },
  {
   "cell_type": "markdown",
   "metadata": {},
   "source": [
    "# Bonus"
   ]
  },
  {
   "cell_type": "markdown",
   "metadata": {},
   "source": [
    "We want to try and find a gradient of reward prediction per room. Training a model for each one and only using the positions"
   ]
  },
  {
   "cell_type": "code",
   "execution_count": 248,
   "metadata": {},
   "outputs": [
    {
     "name": "stdout",
     "output_type": "stream",
     "text": [
      "root\n",
      " |-- reward: double (nullable = true)\n",
      " |-- numPantalla: long (nullable = true)\n",
      " |-- obsequium: long (nullable = true)\n",
      " |-- posx_G: long (nullable = true)\n",
      " |-- posy_G: long (nullable = true)\n",
      " |-- action: long (nullable = true)\n",
      " |-- dist: double (nullable = true)\n",
      "\n"
     ]
    }
   ],
   "source": [
    "data.printSchema()"
   ]
  },
  {
   "cell_type": "code",
   "execution_count": 249,
   "metadata": {},
   "outputs": [],
   "source": [
    "bonus_data = data.select(['reward', 'posx_G', 'posy_G', 'numPantalla']).toPandas()"
   ]
  },
  {
   "cell_type": "code",
   "execution_count": 250,
   "metadata": {},
   "outputs": [
    {
     "data": {
      "text/html": [
       "<div>\n",
       "<style scoped>\n",
       "    .dataframe tbody tr th:only-of-type {\n",
       "        vertical-align: middle;\n",
       "    }\n",
       "\n",
       "    .dataframe tbody tr th {\n",
       "        vertical-align: top;\n",
       "    }\n",
       "\n",
       "    .dataframe thead th {\n",
       "        text-align: right;\n",
       "    }\n",
       "</style>\n",
       "<table border=\"1\" class=\"dataframe\">\n",
       "  <thead>\n",
       "    <tr style=\"text-align: right;\">\n",
       "      <th></th>\n",
       "      <th>reward</th>\n",
       "      <th>posx_G</th>\n",
       "      <th>posy_G</th>\n",
       "      <th>numPantalla</th>\n",
       "    </tr>\n",
       "  </thead>\n",
       "  <tbody>\n",
       "    <tr>\n",
       "      <th>0</th>\n",
       "      <td>-0.0001</td>\n",
       "      <td>137</td>\n",
       "      <td>143</td>\n",
       "      <td>21</td>\n",
       "    </tr>\n",
       "  </tbody>\n",
       "</table>\n",
       "</div>"
      ],
      "text/plain": [
       "   reward  posx_G  posy_G  numPantalla\n",
       "0 -0.0001     137     143           21"
      ]
     },
     "execution_count": 250,
     "metadata": {},
     "output_type": "execute_result"
    }
   ],
   "source": [
    "bonus_data.head(1)"
   ]
  },
  {
   "cell_type": "code",
   "execution_count": 251,
   "metadata": {},
   "outputs": [],
   "source": [
    "from sklearn.linear_model import LinearRegression"
   ]
  },
  {
   "cell_type": "code",
   "execution_count": 281,
   "metadata": {},
   "outputs": [],
   "source": [
    "rooms = bonus_data['numPantalla'].unique()\n",
    "total_predictions = pd.DataFrame()\n",
    "\n",
    "for room in rooms:\n",
    "    filter_data = bonus_data.loc[bonus_data['numPantalla'] == room, :]\n",
    "    X = filter_data.drop(['reward', 'numPantalla'], axis=1)\n",
    "    y = filter_data['reward']\n",
    "    model = LinearRegression()\n",
    "    model.fit(X, y)\n",
    "    X.drop_duplicates(inplace=True)\n",
    "    preds = model.predict(X)  # Because cool people overfit\n",
    "    X['prediction'] = preds\n",
    "    X['room'] = room\n",
    "    total_predictions = pd.concat([total_predictions, X])\n",
    "    "
   ]
  },
  {
   "cell_type": "code",
   "execution_count": 282,
   "metadata": {},
   "outputs": [
    {
     "data": {
      "text/plain": [
       "1142"
      ]
     },
     "execution_count": 282,
     "metadata": {},
     "output_type": "execute_result"
    }
   ],
   "source": [
    "len(total_predictions)  # We only have distinct 1142 coordinates"
   ]
  },
  {
   "cell_type": "code",
   "execution_count": 286,
   "metadata": {},
   "outputs": [
    {
     "data": {
      "text/plain": [
       "<matplotlib.axes._subplots.AxesSubplot at 0x2158d7d7780>"
      ]
     },
     "execution_count": 286,
     "metadata": {},
     "output_type": "execute_result"
    },
    {
     "data": {
      "image/png": "[encoded data removed]",
      "text/plain": [
       "<Figure size 1080x1080 with 2 Axes>"
      ]
     },
     "metadata": {},
     "output_type": "display_data"
    }
   ],
   "source": [
    "plt.subplots(figsize=(15,15))\n",
    "heatmap = plt.cm.get_cmap(\"magma\")\n",
    "heatmap.set_bad(color=\"#666666\")\n",
    "sns.heatmap(total_predictions.pivot_table('prediction', 'posy_G', 'posx_G'),\n",
    "            xticklabels=False,\n",
    "            yticklabels=False,\n",
    "            square=True,\n",
    "            cmap=heatmap)"
   ]
  },
  {
   "cell_type": "markdown",
   "metadata": {},
   "source": []
  },
  {
   "cell_type": "code",
   "execution_count": 290,
   "metadata": {
    "scrolled": false
   },
   "outputs": [
    {
     "data": {
      "image/png": "[encoded data removed]",
      "text/plain": [
       "<Figure size 1080x2160 with 22 Axes>"
      ]
     },
     "metadata": {},
     "output_type": "display_data"
    }
   ],
   "source": [
    "plt.subplots(figsize=(15,30))\n",
    "for i, room in enumerate(rooms):\n",
    "    filter_data = total_predictions.loc[total_predictions['room'] == room, ['posx_G', 'posy_G', 'prediction']]\n",
    "    map_data = filter_data.pivot_table('prediction', 'posy_G', 'posx_G')\n",
    "    plt.subplot(6,2,i+1)\n",
    "    sns.heatmap(map_data, yticklabels=False, xticklabels=False, square=True, cmap=heatmap)\n",
    "    plt.title(\"Room number: \" + str(room))\n",
    "plt.tight_layout()"
   ]
  },
  {
   "cell_type": "markdown",
   "metadata": {},
   "source": [
    "![gradient](images/gradient.png)"
   ]
  },
  {
   "cell_type": "markdown",
   "metadata": {},
   "source": [
    "We can see that we have a gradient of low-high reward for each room. But in most cases it trasnlates to \"If you advance, you die\""
   ]
  },
  {
   "cell_type": "markdown",
   "metadata": {},
   "source": [
    "## Conclusions"
   ]
  },
  {
   "cell_type": "markdown",
   "metadata": {},
   "source": [
    "Guillermo is screwed"
   ]
  },
  {
   "cell_type": "markdown",
   "metadata": {},
   "source": [
    "![death](images/death.jpg)"
   ]
  },
  {
   "cell_type": "code",
   "execution_count": null,
   "metadata": {},
   "outputs": [],
   "source": []
  },
  {
   "cell_type": "markdown",
   "metadata": {},
   "source": [
    "![dog](images/dog.jpg)"
   ]
  },
  {
   "cell_type": "code",
   "execution_count": null,
   "metadata": {},
   "outputs": [],
   "source": []
  }
 ],
 "metadata": {
  "accelerator": "GPU",
  "colab": {
   "collapsed_sections": [],
   "name": "Copy of 01 AbadIA.ipynb",
   "private_outputs": true,
   "provenance": [],
   "version": "0.3.2"
  },
  "kernelspec": {
   "display_name": "Python [conda env:basicdata]",
   "language": "python",
   "name": "conda-env-basicdata-py"
  },
  "language_info": {
   "codemirror_mode": {
    "name": "ipython",
    "version": 3
   },
   "file_extension": ".py",
   "mimetype": "text/x-python",
   "name": "python",
   "nbconvert_exporter": "python",
   "pygments_lexer": "ipython3",
   "version": "3.6.6"
  },
  "toc": {
   "base_numbering": 1,
   "nav_menu": {},
   "number_sections": true,
   "sideBar": true,
   "skip_h1_title": true,
   "title_cell": "Table of Contents",
   "title_sidebar": "Contents",
   "toc_cell": false,
   "toc_position": {},
   "toc_section_display": true,
   "toc_window_display": false
  },
  "varInspector": {
   "cols": {
    "lenName": 16,
    "lenType": 16,
    "lenVar": 40
   },
   "kernels_config": {
    "python": {
     "delete_cmd_postfix": "",
     "delete_cmd_prefix": "del ",
     "library": "var_list.py",
     "varRefreshCmd": "print(var_dic_list())"
    },
    "r": {
     "delete_cmd_postfix": ") ",
     "delete_cmd_prefix": "rm(",
     "library": "var_list.r",
     "varRefreshCmd": "cat(var_dic_list()) "
    }
   },
   "types_to_exclude": [
    "module",
    "function",
    "builtin_function_or_method",
    "instance",
    "_Feature"
   ],
   "window_display": false
  }
 },
 "nbformat": 4,
 "nbformat_minor": 2
}
